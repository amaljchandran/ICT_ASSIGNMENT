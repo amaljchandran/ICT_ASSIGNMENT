{
 "cells": [
  {
   "cell_type": "markdown",
   "id": "ff132d7c-860c-4f09-9f24-6ce6fbb0ca28",
   "metadata": {},
   "source": [
    "# Case study Questions -Assignment"
   ]
  },
  {
   "cell_type": "code",
   "execution_count": 9,
   "id": "d3278156-a672-49e3-94d5-257f18926283",
   "metadata": {},
   "outputs": [
    {
     "name": "stdout",
     "output_type": "stream",
     "text": [
      "Welcome to your bank account \n",
      "For deposit Type 1\n",
      "For withdrawal Type 2\n",
      "For Balance Enquiry Type 3\n",
      "To Exit,Type 4\n"
     ]
    },
    {
     "name": "stdin",
     "output_type": "stream",
     "text": [
      "Enter your choice: 1\n",
      "Enter the amount you want to deposit 1500\n"
     ]
    },
    {
     "name": "stdout",
     "output_type": "stream",
     "text": [
      "Amount added successfully\n",
      "Your current Balance is 1500\n",
      "For deposit Type 1\n",
      "For withdrawal Type 2\n",
      "For Balance Enquiry Type 3\n",
      "To Exit,Type 4\n"
     ]
    },
    {
     "name": "stdin",
     "output_type": "stream",
     "text": [
      "Enter your choice: 2\n"
     ]
    },
    {
     "name": "stdout",
     "output_type": "stream",
     "text": [
      "Balance amount :1500\n"
     ]
    },
    {
     "name": "stdin",
     "output_type": "stream",
     "text": [
      "Enter the withdrawal amount 500\n"
     ]
    },
    {
     "name": "stdout",
     "output_type": "stream",
     "text": [
      "You can withdraw  500 from your account\n",
      "balance amount:1000\n",
      "For deposit Type 1\n",
      "For withdrawal Type 2\n",
      "For Balance Enquiry Type 3\n",
      "To Exit,Type 4\n"
     ]
    },
    {
     "name": "stdin",
     "output_type": "stream",
     "text": [
      "Enter your choice: 4\n"
     ]
    }
   ],
   "source": [
    "#Back Account Manager\n",
    "account=0\n",
    "def deposit():\n",
    "    global account\n",
    "    amount=int(input(\"Enter the amount you want to deposit\"))\n",
    "    account+=amount\n",
    "    print(\"Amount added successfully\")\n",
    "    print(f\"Your current Balance is {account}\")\n",
    "    \n",
    "    \n",
    "def withdrawal():\n",
    "    global account\n",
    "    print(f\"Balance amount :{account}\")\n",
    "    withdraw=int(input(\"Enter the withdrawal amount\"))\n",
    "    if account>= withdraw:\n",
    "        account-=withdraw\n",
    "        print(f\"You can withdraw  {withdraw} from your account\")\n",
    "    else:\n",
    "        print(\"Insufficent balance\")\n",
    "    print(f\"balance amount:{account}\")    \n",
    "\n",
    "\n",
    "    \n",
    "    \n",
    "def balance_enquiry():\n",
    "    global account\n",
    "    print(f\"your account balance is : {account}\")\n",
    "    \n",
    "def main():\n",
    "\n",
    "    print(\"Welcome to your bank account \")\n",
    "    while True:\n",
    "        print(\"For deposit Type 1\")\n",
    "        print(\"For withdrawal Type 2\")\n",
    "        print(\"For Balance Enquiry Type 3\")\n",
    "        print(\"To Exit,Type 4\")\n",
    "\n",
    "        choice=int(input(\"Enter your choice:\"))\n",
    "\n",
    "        if choice == 1:\n",
    "            deposit()\n",
    "        elif choice ==2:\n",
    "            withdrawal()\n",
    "        elif choice ==3:\n",
    "            balance_enquiry()\n",
    "        elif choice == 4:\n",
    "            break\n",
    "        else:\n",
    "            print(\"Invalid choice\")\n",
    "main()            \n",
    "            \n",
    "    \n",
    "    "
   ]
  },
  {
   "cell_type": "code",
   "execution_count": 11,
   "id": "d6da6cf6-1f9c-45e9-a89b-c37f7c7d33f2",
   "metadata": {},
   "outputs": [
    {
     "name": "stdin",
     "output_type": "stream",
     "text": [
      "Temperature Report : Enter 0 for SundaysReport ,Enter 1 for mondays report,Enter 2 for Tuesday Report,Enter 3 for Wednesdays report  1\n",
      "Humidity Report : Enter 0 for SundaysReport,Enter 1 for mondays report,Enter 2 for Tuesday Report,Enter 3 for Wednesdays report  1\n"
     ]
    },
    {
     "ename": "NameError",
     "evalue": "name 'temperature' is not defined",
     "output_type": "error",
     "traceback": [
      "\u001b[1;31m---------------------------------------------------------------------------\u001b[0m",
      "\u001b[1;31mNameError\u001b[0m                                 Traceback (most recent call last)",
      "Cell \u001b[1;32mIn[11], line 18\u001b[0m\n\u001b[0;32m     16\u001b[0m i\u001b[38;5;241m=\u001b[39m\u001b[38;5;28mint\u001b[39m(\u001b[38;5;28minput\u001b[39m(\u001b[38;5;124m\"\u001b[39m\u001b[38;5;124mTemperature Report : Enter 0 for SundaysReport ,Enter 1 for mondays report,Enter 2 for Tuesday Report,Enter 3 for Wednesdays report \u001b[39m\u001b[38;5;124m\"\u001b[39m))\n\u001b[0;32m     17\u001b[0m j\u001b[38;5;241m=\u001b[39m\u001b[38;5;28mint\u001b[39m(\u001b[38;5;28minput\u001b[39m(\u001b[38;5;124m\"\u001b[39m\u001b[38;5;124mHumidity Report : Enter 0 for SundaysReport,Enter 1 for mondays report,Enter 2 for Tuesday Report,Enter 3 for Wednesdays report \u001b[39m\u001b[38;5;124m\"\u001b[39m))\n\u001b[1;32m---> 18\u001b[0m condition\u001b[38;5;241m=\u001b[39mconditions(temperature[i],humidity[j])\n\u001b[0;32m     22\u001b[0m region\u001b[38;5;241m=\u001b[39m\u001b[38;5;124m\"\u001b[39m\u001b[38;5;124mkochi\u001b[39m\u001b[38;5;124m\"\u001b[39m\n\u001b[0;32m     23\u001b[0m temperature\u001b[38;5;241m=\u001b[39m[\u001b[38;5;241m27\u001b[39m,\u001b[38;5;241m30\u001b[39m,\u001b[38;5;241m29\u001b[39m,\u001b[38;5;241m25\u001b[39m,\u001b[38;5;241m26\u001b[39m,\u001b[38;5;241m23\u001b[39m,\u001b[38;5;241m34\u001b[39m]\n",
      "\u001b[1;31mNameError\u001b[0m: name 'temperature' is not defined"
     ]
    }
   ],
   "source": [
    "def conditions(temperature,humidity):\n",
    "    if temperature > 30 and humidity < 50:\n",
    "        return \"sunny\"\n",
    "    elif temperature > 25 and humidity > 70:\n",
    "        return \"rainy\"\n",
    "    elif temperature <10 and humidity >80:\n",
    "        return \"Snowy\"\n",
    "    else:\n",
    "        return \"Moderate\"\n",
    "def avg_temp(temperature):\n",
    "    return sum(temperature)/len(temperature)\n",
    "def avg_humidity(humidity):\n",
    "    return sum(humidity)/len(humidity)\n",
    "    \n",
    "\n",
    "\n",
    "\n",
    "\n",
    "condition=conditions(temperature[i],humidity[j])\n",
    "    \n",
    "        \n",
    "\n",
    "region=\"kochi\"\n",
    "temperature=[27,30,29,25,26,23,34]\n",
    "humidity = [70,83,73,74,86,90,71]\n",
    "\n",
    "\n",
    "average_temp=avg_temp(temperature)\n",
    "average_humidity=avg_humidity(humidity)\n",
    "\n",
    "print(f\"Weather data for {region}\")\n",
    "print(f\"Average humidity:{average_humidity}\")\n",
    "print(f\"average temperature :{average_temp}\")\n",
    "print(f\"weather condition : {condition}\")\n",
    "\n",
    "\n"
   ]
  },
  {
   "cell_type": "code",
   "execution_count": null,
   "id": "b9393a6b-29ec-494a-8dc9-2bb8f5fa7651",
   "metadata": {},
   "outputs": [],
   "source": []
  }
 ],
 "metadata": {
  "kernelspec": {
   "display_name": "Python [conda env:env]",
   "language": "python",
   "name": "conda-env-env-py"
  },
  "language_info": {
   "codemirror_mode": {
    "name": "ipython",
    "version": 3
   },
   "file_extension": ".py",
   "mimetype": "text/x-python",
   "name": "python",
   "nbconvert_exporter": "python",
   "pygments_lexer": "ipython3",
   "version": "3.12.4"
  }
 },
 "nbformat": 4,
 "nbformat_minor": 5
}
